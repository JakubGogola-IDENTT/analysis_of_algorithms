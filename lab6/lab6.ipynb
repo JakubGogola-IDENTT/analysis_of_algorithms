{
 "cells": [
  {
   "cell_type": "code",
   "execution_count": 1,
   "id": "438fc09d-171f-4b6e-9672-77275c44c797",
   "metadata": {},
   "outputs": [],
   "source": [
    "%config IPCompleter.greedy=True"
   ]
  },
  {
   "cell_type": "markdown",
   "id": "e9741b5d-bf27-422b-bf28-d1fb4ab59574",
   "metadata": {},
   "source": [
    "# Zadanie 12"
   ]
  },
  {
   "cell_type": "markdown",
   "id": "a6cea751-99db-469d-a992-930585348765",
   "metadata": {},
   "source": [
    "W tym zadaniu należało zbadać liczbę wywołań linii `6`w przedstawionym pseudokodzie za pomocą funkcji towrzących oraz eksperymentalnie."
   ]
  },
  {
   "cell_type": "markdown",
   "id": "f628651c-d6ab-43be-b3d2-b79db4f8f5d8",
   "metadata": {},
   "source": [
    "## Funkcja tworząca\n",
    "\n",
    "W celu wyznaczenia liczby wywołań linii 6. za pomocą funkcji tworzącej, należy rozpocząć od wyznaczenia rekurencyjnej zależności. W tym przypadku będzie ona przedstawiała się następująco: $a_0 = 0, a_n = a_{n-1} + 1$"
   ]
  },
  {
   "cell_type": "code",
   "execution_count": 2,
   "id": "948df109-c02b-40bc-bc2c-ce915f002974",
   "metadata": {},
   "outputs": [],
   "source": [
    "def func(n):\n",
    "    if n == 0:\n",
    "        return 1, 0\n",
    "    \n",
    "    s = 0\n",
    "    c = 0\n",
    "    \n",
    "    for i in range(0, n):\n",
    "        next_s, next_c = func(i) # 6\n",
    "    \n",
    "        s += next_s\n",
    "        c += next_c + 1\n",
    "        \n",
    "    return (s, c)"
   ]
  },
  {
   "cell_type": "code",
   "execution_count": 3,
   "id": "3ad930ee-1b97-4738-bb3e-b595c072d60f",
   "metadata": {},
   "outputs": [
    {
     "name": "stdout",
     "output_type": "stream",
     "text": [
      "i = 0 -> s = 1, c = 0\n",
      "i = 1 -> s = 1, c = 1\n",
      "i = 2 -> s = 2, c = 3\n",
      "i = 3 -> s = 4, c = 7\n",
      "i = 4 -> s = 8, c = 15\n",
      "i = 5 -> s = 16, c = 31\n",
      "i = 6 -> s = 32, c = 63\n",
      "i = 7 -> s = 64, c = 127\n",
      "i = 8 -> s = 128, c = 255\n",
      "i = 9 -> s = 256, c = 511\n"
     ]
    }
   ],
   "source": [
    "for i in range(0,10):\n",
    "    s, c = func(i)\n",
    "    \n",
    "    print('i = {} -> s = {}, c = {}'.format(i, s, c))"
   ]
  },
  {
   "cell_type": "code",
   "execution_count": null,
   "id": "644d42e7-6f63-477c-91f5-15fd2be0e615",
   "metadata": {},
   "outputs": [],
   "source": []
  }
 ],
 "metadata": {
  "kernelspec": {
   "display_name": "Python 3",
   "language": "python",
   "name": "python3"
  },
  "language_info": {
   "codemirror_mode": {
    "name": "ipython",
    "version": 3
   },
   "file_extension": ".py",
   "mimetype": "text/x-python",
   "name": "python",
   "nbconvert_exporter": "python",
   "pygments_lexer": "ipython3",
   "version": "3.9.5"
  }
 },
 "nbformat": 4,
 "nbformat_minor": 5
}
