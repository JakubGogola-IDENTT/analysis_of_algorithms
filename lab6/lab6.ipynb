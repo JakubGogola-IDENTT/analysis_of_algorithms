{
 "cells": [
  {
   "cell_type": "code",
   "execution_count": 1,
   "id": "438fc09d-171f-4b6e-9672-77275c44c797",
   "metadata": {},
   "outputs": [],
   "source": [
    "%config IPCompleter.greedy=True"
   ]
  },
  {
   "cell_type": "markdown",
   "id": "e9741b5d-bf27-422b-bf28-d1fb4ab59574",
   "metadata": {},
   "source": [
    "# Zadanie 12"
   ]
  },
  {
   "cell_type": "markdown",
   "id": "a6cea751-99db-469d-a992-930585348765",
   "metadata": {},
   "source": [
    "W tym zadaniu należało zbadać liczbę wywołań linii `6`w przedstawionym pseudokodzie za pomocą funkcji towrzących oraz eksperymentalnie."
   ]
  },
  {
   "cell_type": "markdown",
   "id": "f628651c-d6ab-43be-b3d2-b79db4f8f5d8",
   "metadata": {},
   "source": [
    "## Funkcja tworząca\n",
    "\n",
    "W celu wyznaczenia liczby wywołań linii 6. za pomocą funkcji tworzącej, należy rozpocząć od wyznaczenia rekurencyjnej zależności. Zauważamy, że poza przypadkiem, gdy $n = 0$ to linia nr 6 wywołana zostanie co najmniej jeden raz. Dla $n = 1$ nastąpi natomiast tylko jedno wywołanie. Następnie, dla $n \\geq 2$ można zauważyć zależnośc, że, zliczając wszystkie rekurencyjne wywołania, linia 6 wywoła się następująco:\n",
    "* $n = 2 \\rightarrow 3$,\n",
    "* $n = 3 \\rightarrow 7$,\n",
    "* $n = 4 \\rightarrow 15$,\n",
    "* $n = 5 \\rightarrow 31$,\n",
    "* $n = 6 \\rightarrow 63$,\n",
    "* $\\ldots$\n",
    "\n",
    "Powyższą zależność łatwo zauważyć analizując kod. Funkcja ta wywoła się $n$ razy dla każdej wartości iteratora w pętli i dodatkowo, również dla każdej wartości iteratora, należy doliczyć dla niej liczbę wywołań funkcji $f$. Wypisując kilka pierwszych wyrazów ciągu łatwo zauważyć zależność względem $n$:\n",
    "* $n = 0 \\rightarrow 0$,\n",
    "* $\\forall_{n > 0} \\rightarrow 2^n - 1$.\n",
    "\n",
    "Jest to ciąg Mersenne'a oznaczony numerem [A000225](https://oeis.org/A000225). Można wyznaczyć dla niego funkcję tworzącą:\n",
    "\n",
    "$A(z) = \\sum_{n \\geq 0}(2^n - 1)z^n$\n",
    "\n",
    "$A(z) = \\sum_{n \\geq 0}2^nz^n - \\sum_{n \\geq 0}z^n$\n",
    "\n",
    "$A(z) = \\frac{1}{1 - 2z} + \\frac{1}{z - 1}$ \n",
    "\n",
    "$A(z) = \\frac{z}{2z^2 - 3z + 1}$\n",
    "\n",
    "Korzystając z lematu 1. z wykładu wiemy, że można zapisać $A(z)$ jako iloraz $\\frac{f(z)}{g(z)}$, gdzie funkcje $f$ i $g$ są zdefiniowane następująco:\n",
    "\n",
    "* $g(z) = 1 - c_1z - c_2z^2 - \\ldots - c_tz^2$\n",
    "* $f(z) = g(z) \\sum_{0 \\leq n < t} a_nz^n (\\mod z^t)$\n",
    "\n",
    "Gdzie wiemy, że $a_n = c_1a_{n-1} + c_2a_{n-1} + \\ldots + c_ta_{n - t}$ dla $n \\geq t$.\n",
    "\n",
    "Dekonstruując uzyskaną formę $A(z)$ otrzymujemy:\n",
    "\n",
    "$f(z) = z$\n",
    "\n",
    "$g(z) = 1 - 3z + 2z^2$\n",
    "\n",
    "Stąd, _przykładając_ uzyskane funkcje $f$ oraz $g$ do lematu 1. otrzymujemy rekurencyjną postać ciągu:\n",
    "* $a_0 = 0$,\n",
    "* $a_1 = 1$,\n",
    "* $a_n = 3a_{n-1} - 2a_{n-2}$."
   ]
  },
  {
   "cell_type": "markdown",
   "id": "f21272c2-fd43-4c27-8ba5-c505c253027c",
   "metadata": {},
   "source": [
    "## Weryfikacja eskperymentalna\n",
    "\n",
    "W celu eksperymentalnej weryfikacji przedstawionego powyżej rozumowania zaimplementowano kod podany na liście i zliczono liczbę wywołań linii numer 6. Teoretyczne wyniki zostaly potwierdzone."
   ]
  },
  {
   "cell_type": "code",
   "execution_count": 2,
   "id": "948df109-c02b-40bc-bc2c-ce915f002974",
   "metadata": {},
   "outputs": [],
   "source": [
    "def func(n):\n",
    "    if n == 0:\n",
    "        return 1, 0\n",
    "    \n",
    "    s = 0\n",
    "    c = 0\n",
    "    \n",
    "    for i in range(0, n):\n",
    "        next_s, next_c = func(i) # 6\n",
    "    \n",
    "        s += next_s\n",
    "        c += next_c + 1\n",
    "        \n",
    "    return (s, c)"
   ]
  },
  {
   "cell_type": "code",
   "execution_count": 3,
   "id": "3ad930ee-1b97-4738-bb3e-b595c072d60f",
   "metadata": {},
   "outputs": [
    {
     "name": "stdout",
     "output_type": "stream",
     "text": [
      "i = 0 -> s = 1, c = 0\n",
      "i = 1 -> s = 1, c = 1\n",
      "i = 2 -> s = 2, c = 3\n",
      "i = 3 -> s = 4, c = 7\n",
      "i = 4 -> s = 8, c = 15\n",
      "i = 5 -> s = 16, c = 31\n",
      "i = 6 -> s = 32, c = 63\n",
      "i = 7 -> s = 64, c = 127\n",
      "i = 8 -> s = 128, c = 255\n",
      "i = 9 -> s = 256, c = 511\n",
      "i = 10 -> s = 512, c = 1023\n",
      "i = 11 -> s = 1024, c = 2047\n",
      "i = 12 -> s = 2048, c = 4095\n",
      "i = 13 -> s = 4096, c = 8191\n",
      "i = 14 -> s = 8192, c = 16383\n",
      "i = 15 -> s = 16384, c = 32767\n",
      "i = 16 -> s = 32768, c = 65535\n",
      "i = 17 -> s = 65536, c = 131071\n",
      "i = 18 -> s = 131072, c = 262143\n",
      "i = 19 -> s = 262144, c = 524287\n"
     ]
    }
   ],
   "source": [
    "for i in range(0,20):\n",
    "    s, c = func(i)\n",
    "    \n",
    "    print('i = {} -> s = {}, c = {}'.format(i, s, c))"
   ]
  },
  {
   "cell_type": "code",
   "execution_count": null,
   "id": "644d42e7-6f63-477c-91f5-15fd2be0e615",
   "metadata": {},
   "outputs": [],
   "source": []
  }
 ],
 "metadata": {
  "kernelspec": {
   "display_name": "Python 3",
   "language": "python",
   "name": "python3"
  },
  "language_info": {
   "codemirror_mode": {
    "name": "ipython",
    "version": 3
   },
   "file_extension": ".py",
   "mimetype": "text/x-python",
   "name": "python",
   "nbconvert_exporter": "python",
   "pygments_lexer": "ipython3",
   "version": "3.9.5"
  }
 },
 "nbformat": 4,
 "nbformat_minor": 5
}
