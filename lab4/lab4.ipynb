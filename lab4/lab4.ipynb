{
 "cells": [
  {
   "cell_type": "code",
   "execution_count": 1,
   "id": "624a8f5c-0b6c-43bb-8a54-bcc5598e7507",
   "metadata": {},
   "outputs": [],
   "source": [
    "%config IPCompleter.greedy=True"
   ]
  },
  {
   "cell_type": "code",
   "execution_count": 2,
   "id": "c50e8754-d76e-4778-8271-d3067d097a3e",
   "metadata": {},
   "outputs": [],
   "source": [
    "import itertools, math, random\n",
    "import numpy as np\n",
    "import pandas as pd\n",
    "import matplotlib.pyplot as plt\n",
    "import scipy.special as scp"
   ]
  },
  {
   "cell_type": "markdown",
   "id": "216dd591-297f-4f59-a2d4-e358591e08b9",
   "metadata": {},
   "source": [
    "# Analiza blockchain\n",
    "\n",
    "Celem listy jest analiza systemu blockchain, a konkretniej - ataku **podwójnego wydatkowania** (ang. _double spending attack_). Zostaną tutaj przedstawione:\n",
    "* analiza formuł zaproponowanych w pracach Nakamato i Grunspana dotyczących omawianego ataku,\n",
    "* symulacja ataku _double spending_,\n",
    "* porównanie wyników symulacji z wynikami teoretycznymi zawartymi we wspomnianych pracach."
   ]
  },
  {
   "cell_type": "markdown",
   "id": "a1d3cdee-dbf4-46cb-ba92-e842ba997b53",
   "metadata": {},
   "source": [
    "## Wstępne założenia i oznaczenia\n",
    "\n",
    "Niech $q \\in (0, \\frac{1}{2})$ oznacza prawdopodobieństwo wydobycia kolejnego bloku przez adwersarza, które odpowiada części mocy obliczeniowej przez niego posiadanej. Niech $n$ oznacza liczbę powtórzeń (nadbudowanych bloków) potrzebnych, by uznać transakcję za potwierdzoną. Niech $\\Pr(n, q)$ oznacza prawbinomdopodobieństwo, że adwersarz o mocy obliczeniowej $q$ będzie dysponował łańcuchem bloków równym lub dłuższym niż ten budowany przez uczciwych użytkowników w momencie, gdy nabudowali oni blok zawierający rozważaną transakcję $n$ blokami lub kiedykolwiek później."
   ]
  },
  {
   "cell_type": "markdown",
   "id": "a405073f-4d8d-4204-9bbc-cdc8400ad8a4",
   "metadata": {},
   "source": [
    "## Porównanie analizy Nakamato i Grunspana"
   ]
  },
  {
   "cell_type": "markdown",
   "id": "b8df41ef-d691-4e3b-aa22-8c08124e95dd",
   "metadata": {},
   "source": [
    "Na początku zdefiniujmy sobie zdarzenie $E_n$ jako zrównanie się najdłuższej gałęzi łańcucha i gałęzi budowanej przez adwersarza w sytuacji, kiedy adersarzowi brakuje do zrównania się $n$ bloków. Niech $\\Pr(E_n) = q_n$ oznacza prawdopodbieństwo wystąpienia takiego zdarzenia. Wówczas, na mocy **lematu 3.** możemy wyrazić to jako:\n",
    "\n",
    "$\\Pr[E_n] = q_n = (\\frac{q}{p})^n$,\n",
    "\n",
    "gdzie $q$ oznacza moc obliczeniową, którą dysponuje atakujący, a $p$ - moc należącąbinom do uczciwych użytkowników. Oczywiście $p = 1 - q$."
   ]
  },
  {
   "cell_type": "code",
   "execution_count": 3,
   "id": "1c859407-b6cc-48b5-9adb-d547c153f210",
   "metadata": {},
   "outputs": [],
   "source": [
    "def q_n(n, q):\n",
    "    p = 1 - q\n",
    "    return (q/p)**n"
   ]
  },
  {
   "cell_type": "markdown",
   "id": "8e28777e-04e1-465d-9a74-900589786546",
   "metadata": {},
   "source": [
    "### Analiza Nakamato"
   ]
  },
  {
   "cell_type": "markdown",
   "id": "76dfceb0-90d6-43a2-ac71-c5a9ee96c304",
   "metadata": {},
   "source": [
    "Niech $\\Pr(n)$ oznacza prawdopodobieństwo, że adwersarzowi uda się zrównać budowany przez niego łańcuch z łańcuchem tworzonym przez uczciwych użytkowników w momencie, gdy nadbuowali oni łańcuch co najmniej $n$ blokami. Wartość $\\Pr(n)$ można przedstawić jako:\n",
    "\n",
    "$\\Pr(n) = \\Pr[N'(S_n) > n] + \\sum_{k = 0}^n \\Pr[N'(S_n) = k] \\cdot q_{n - k}$\n",
    "\n",
    "Nakamato w swojej pracy proponuje przyjęcie przybliżenia $N'(S_n)$ przez $N'(\\mathbb{E}[S_n])$, gdzie  $\\mathbb{E}[S_n] = n\\mathbb{E}[T] = n\\frac{\\tau}{p}$, gdzie $\\tau$ to średni czas wydobycia jednego bloku (w sieci `Bitcoin` wynosi on około 10 minut), a $T$ jest zmienną losową opisującą atak. Wówczas, wykonując odpowiednie przekształcenia, Nakamoto proponuje przyjęcie przybliżenia:\n",
    "\n",
    "$\\Pr(n) \\approx 1 - \\sum{k = 1}^{n - 1} e^{-\\lambda}\\frac{\\lambda^{k}}{k!}(1 - q_{n-k})$\n",
    "\n",
    "W związku z tym, że analiza ta przyjmuje założenie $N'(S_n) \\approx N'(\\mathbb{E}[S_n])$, nie jest ona zbyt prezycyjna. "
   ]
  },
  {
   "cell_type": "markdown",
   "id": "119633c4-17fd-4ee9-b655-5a720cd871f9",
   "metadata": {},
   "source": [
    "### Analiza Grunspan'a"
   ]
  },
  {
   "cell_type": "markdown",
   "id": "b674aaf0-1c3b-4546-a194-90c92f1f9e1d",
   "metadata": {},
   "source": [
    "Grunspan w swojej pracy przedstawił dokładniejszą analizę sieci `Bitcoin` niż Nakamato. Zawarł on w niej następujące twierdzenie:\n",
    "\n",
    "**Twierdzenie 1**\n",
    "Niech $X_n$ będzie zmienną losową oznaczającą liczbę bloków wydobytych przez adwersarza w chwili, gdy uczciwi użytkownicy nadbudowali rozważany blok $n$ blokami. Wówczas zmienna $X_n$ ma rozkład ujemny duwmianowy z parametrami $n$ oraz $p$:\n",
    "\n",
    "$\\Pr[X_n = k] = p^nq^k \\binom{k +n - 1}{k}$\n",
    "\n",
    "Wykorzystując to twierdzenie możemy przedstawić zdefiniowane wcześniej $\\Pr(n)$ (prawdopodobieństwo, że adwersarz zbuduje łańcuch równy lub dłuższy od tego budowanego przez uczciwych użytkowników, gdy nabudowali oni blok co najmniej $n$ nowymi blokami) jako:\n",
    "\n",
    "$\\Pr(n) = 1 - \\sum_{k = 0}^{n - 1}(p^nq^k - q^np^k)\\binom{k + n - 1}{k}$\n",
    "\n",
    "Łatwo zauważyć, że mamy tutaj do czynienia z dokładną wartością, a nie tylko z oszacowaniem jak w przypadku analizy przedstawione przez Nakamoto."
   ]
  },
  {
   "cell_type": "markdown",
   "id": "765d0298-4e60-40f6-80af-edd22c2afa0a",
   "metadata": {},
   "source": [
    "### Porównanie wyników (a)\n",
    "\n",
    "Zgodnie z poleceniem listy należało porównać wyniki uzyskane przy pomocy obu analiz dla $\\Pr(n, q)$ dla $n = 1, 3, 6, 12, 24, 48$ i różnych wartości $q$, a następnie przedstawić wykres zależności $P(n, q)$ w zależności od parametru $q$."
   ]
  },
  {
   "cell_type": "code",
   "execution_count": 4,
   "id": "e373d7cf-d994-4ab2-aa2a-e37fff2ddc81",
   "metadata": {},
   "outputs": [],
   "source": [
    "# Values of param n\n",
    "ns = [1, 3, 6, 12, 24, 48]\n",
    "\n",
    "# Values of param q (not exactly defined on the list)\n",
    "qs = [0.1, 0.15, 0.2, 0.25, 0.30]"
   ]
  },
  {
   "cell_type": "code",
   "execution_count": 5,
   "id": "89d6b4aa-3caf-406f-a92c-386f92305c00",
   "metadata": {},
   "outputs": [],
   "source": [
    "# Probability from Nakamoto's analysis\n",
    "def p_nakamoto(n, q):\n",
    "    p = 1 - q\n",
    "    l = n * (q / p) # lambda\n",
    "    ps = 0\n",
    "    for k in range(0, n):\n",
    "        ps += math.exp(-l) * ((l**k) / math.factorial(k)) * (1 - q_n(n - k, q))\n",
    "    return 1 - ps"
   ]
  },
  {
   "cell_type": "code",
   "execution_count": 6,
   "id": "3d6f8534-6259-4074-b586-ec7d556c5d9d",
   "metadata": {},
   "outputs": [],
   "source": [
    "# Probability from Grunspan's analysis\n",
    "def p_grunspan(n, q):\n",
    "    p = 1 - q\n",
    "    ps = 0\n",
    "    for k in range(0, n):\n",
    "        ps += (math.pow(p, n) * math.pow(q, k) - math.pow(q,n) * math.pow(p, k)) * scp.comb(k + n - 1, k)\n",
    "    return 1 - ps"
   ]
  },
  {
   "cell_type": "code",
   "execution_count": 7,
   "id": "5f0010fa-6b69-42f6-93ff-f7c0917cd363",
   "metadata": {},
   "outputs": [],
   "source": [
    "def create_df_pns(ns, qs, p_func):\n",
    "    return pd.DataFrame([[n, q, p_func(n, q)] for n, q in itertools.product(ns, qs)], columns=['n', 'q', 'P(n,q)'])"
   ]
  },
  {
   "cell_type": "code",
   "execution_count": 8,
   "id": "5aa159a5-61c3-49a8-948c-4dc59fd377a3",
   "metadata": {},
   "outputs": [
    {
     "data": {
      "text/html": [
       "<div>\n",
       "<style scoped>\n",
       "    .dataframe tbody tr th:only-of-type {\n",
       "        vertical-align: middle;\n",
       "    }\n",
       "\n",
       "    .dataframe tbody tr th {\n",
       "        vertical-align: top;\n",
       "    }\n",
       "\n",
       "    .dataframe thead th {\n",
       "        text-align: right;\n",
       "    }\n",
       "</style>\n",
       "<table border=\"1\" class=\"dataframe\">\n",
       "  <thead>\n",
       "    <tr style=\"text-align: right;\">\n",
       "      <th></th>\n",
       "      <th>n</th>\n",
       "      <th>q</th>\n",
       "      <th>P(n,q)</th>\n",
       "    </tr>\n",
       "  </thead>\n",
       "  <tbody>\n",
       "    <tr>\n",
       "      <th>0</th>\n",
       "      <td>1</td>\n",
       "      <td>0.10</td>\n",
       "      <td>2.045873e-01</td>\n",
       "    </tr>\n",
       "    <tr>\n",
       "      <th>1</th>\n",
       "      <td>1</td>\n",
       "      <td>0.15</td>\n",
       "      <td>3.096983e-01</td>\n",
       "    </tr>\n",
       "    <tr>\n",
       "      <th>2</th>\n",
       "      <td>1</td>\n",
       "      <td>0.20</td>\n",
       "      <td>4.158994e-01</td>\n",
       "    </tr>\n",
       "    <tr>\n",
       "      <th>3</th>\n",
       "      <td>1</td>\n",
       "      <td>0.25</td>\n",
       "      <td>5.223125e-01</td>\n",
       "    </tr>\n",
       "    <tr>\n",
       "      <th>4</th>\n",
       "      <td>1</td>\n",
       "      <td>0.30</td>\n",
       "      <td>6.277491e-01</td>\n",
       "    </tr>\n",
       "    <tr>\n",
       "      <th>5</th>\n",
       "      <td>3</td>\n",
       "      <td>0.10</td>\n",
       "      <td>1.317224e-02</td>\n",
       "    </tr>\n",
       "    <tr>\n",
       "      <th>6</th>\n",
       "      <td>3</td>\n",
       "      <td>0.15</td>\n",
       "      <td>4.422781e-02</td>\n",
       "    </tr>\n",
       "    <tr>\n",
       "      <th>7</th>\n",
       "      <td>3</td>\n",
       "      <td>0.20</td>\n",
       "      <td>1.032416e-01</td>\n",
       "    </tr>\n",
       "    <tr>\n",
       "      <th>8</th>\n",
       "      <td>3</td>\n",
       "      <td>0.25</td>\n",
       "      <td>1.961153e-01</td>\n",
       "    </tr>\n",
       "    <tr>\n",
       "      <th>9</th>\n",
       "      <td>3</td>\n",
       "      <td>0.30</td>\n",
       "      <td>3.245841e-01</td>\n",
       "    </tr>\n",
       "    <tr>\n",
       "      <th>10</th>\n",
       "      <td>6</td>\n",
       "      <td>0.10</td>\n",
       "      <td>2.428027e-04</td>\n",
       "    </tr>\n",
       "    <tr>\n",
       "      <th>11</th>\n",
       "      <td>6</td>\n",
       "      <td>0.15</td>\n",
       "      <td>2.680472e-03</td>\n",
       "    </tr>\n",
       "    <tr>\n",
       "      <th>12</th>\n",
       "      <td>6</td>\n",
       "      <td>0.20</td>\n",
       "      <td>1.425061e-02</td>\n",
       "    </tr>\n",
       "    <tr>\n",
       "      <th>13</th>\n",
       "      <td>6</td>\n",
       "      <td>0.25</td>\n",
       "      <td>4.994260e-02</td>\n",
       "    </tr>\n",
       "    <tr>\n",
       "      <th>14</th>\n",
       "      <td>6</td>\n",
       "      <td>0.30</td>\n",
       "      <td>1.321112e-01</td>\n",
       "    </tr>\n",
       "    <tr>\n",
       "      <th>15</th>\n",
       "      <td>12</td>\n",
       "      <td>0.10</td>\n",
       "      <td>8.945841e-08</td>\n",
       "    </tr>\n",
       "    <tr>\n",
       "      <th>16</th>\n",
       "      <td>12</td>\n",
       "      <td>0.15</td>\n",
       "      <td>1.067891e-05</td>\n",
       "    </tr>\n",
       "    <tr>\n",
       "      <th>17</th>\n",
       "      <td>12</td>\n",
       "      <td>0.20</td>\n",
       "      <td>2.943296e-04</td>\n",
       "    </tr>\n",
       "    <tr>\n",
       "      <th>18</th>\n",
       "      <td>12</td>\n",
       "      <td>0.25</td>\n",
       "      <td>3.504420e-03</td>\n",
       "    </tr>\n",
       "    <tr>\n",
       "      <th>19</th>\n",
       "      <td>12</td>\n",
       "      <td>0.30</td>\n",
       "      <td>2.358402e-02</td>\n",
       "    </tr>\n",
       "    <tr>\n",
       "      <th>20</th>\n",
       "      <td>24</td>\n",
       "      <td>0.10</td>\n",
       "      <td>1.298961e-14</td>\n",
       "    </tr>\n",
       "    <tr>\n",
       "      <th>21</th>\n",
       "      <td>24</td>\n",
       "      <td>0.15</td>\n",
       "      <td>1.819782e-10</td>\n",
       "    </tr>\n",
       "    <tr>\n",
       "      <th>22</th>\n",
       "      <td>24</td>\n",
       "      <td>0.20</td>\n",
       "      <td>1.351200e-07</td>\n",
       "    </tr>\n",
       "    <tr>\n",
       "      <th>23</th>\n",
       "      <td>24</td>\n",
       "      <td>0.25</td>\n",
       "      <td>1.860279e-05</td>\n",
       "    </tr>\n",
       "    <tr>\n",
       "      <th>24</th>\n",
       "      <td>24</td>\n",
       "      <td>0.30</td>\n",
       "      <td>8.106496e-04</td>\n",
       "    </tr>\n",
       "    <tr>\n",
       "      <th>25</th>\n",
       "      <td>48</td>\n",
       "      <td>0.10</td>\n",
       "      <td>0.000000e+00</td>\n",
       "    </tr>\n",
       "    <tr>\n",
       "      <th>26</th>\n",
       "      <td>48</td>\n",
       "      <td>0.15</td>\n",
       "      <td>0.000000e+00</td>\n",
       "    </tr>\n",
       "    <tr>\n",
       "      <th>27</th>\n",
       "      <td>48</td>\n",
       "      <td>0.20</td>\n",
       "      <td>3.030909e-14</td>\n",
       "    </tr>\n",
       "    <tr>\n",
       "      <th>28</th>\n",
       "      <td>48</td>\n",
       "      <td>0.25</td>\n",
       "      <td>5.600752e-10</td>\n",
       "    </tr>\n",
       "    <tr>\n",
       "      <th>29</th>\n",
       "      <td>48</td>\n",
       "      <td>0.30</td>\n",
       "      <td>1.027574e-06</td>\n",
       "    </tr>\n",
       "  </tbody>\n",
       "</table>\n",
       "</div>"
      ],
      "text/plain": [
       "     n     q        P(n,q)\n",
       "0    1  0.10  2.045873e-01\n",
       "1    1  0.15  3.096983e-01\n",
       "2    1  0.20  4.158994e-01\n",
       "3    1  0.25  5.223125e-01\n",
       "4    1  0.30  6.277491e-01\n",
       "5    3  0.10  1.317224e-02\n",
       "6    3  0.15  4.422781e-02\n",
       "7    3  0.20  1.032416e-01\n",
       "8    3  0.25  1.961153e-01\n",
       "9    3  0.30  3.245841e-01\n",
       "10   6  0.10  2.428027e-04\n",
       "11   6  0.15  2.680472e-03\n",
       "12   6  0.20  1.425061e-02\n",
       "13   6  0.25  4.994260e-02\n",
       "14   6  0.30  1.321112e-01\n",
       "15  12  0.10  8.945841e-08\n",
       "16  12  0.15  1.067891e-05\n",
       "17  12  0.20  2.943296e-04\n",
       "18  12  0.25  3.504420e-03\n",
       "19  12  0.30  2.358402e-02\n",
       "20  24  0.10  1.298961e-14\n",
       "21  24  0.15  1.819782e-10\n",
       "22  24  0.20  1.351200e-07\n",
       "23  24  0.25  1.860279e-05\n",
       "24  24  0.30  8.106496e-04\n",
       "25  48  0.10  0.000000e+00\n",
       "26  48  0.15  0.000000e+00\n",
       "27  48  0.20  3.030909e-14\n",
       "28  48  0.25  5.600752e-10\n",
       "29  48  0.30  1.027574e-06"
      ]
     },
     "execution_count": 8,
     "metadata": {},
     "output_type": "execute_result"
    }
   ],
   "source": [
    "pns_nakamoto = create_df_pns(ns, qs, p_nakamoto)\n",
    "pns_nakamoto"
   ]
  },
  {
   "cell_type": "code",
   "execution_count": 9,
   "id": "11b50fec-a959-48c7-b02d-2965e6364d25",
   "metadata": {},
   "outputs": [
    {
     "data": {
      "text/html": [
       "<div>\n",
       "<style scoped>\n",
       "    .dataframe tbody tr th:only-of-type {\n",
       "        vertical-align: middle;\n",
       "    }\n",
       "\n",
       "    .dataframe tbody tr th {\n",
       "        vertical-align: top;\n",
       "    }\n",
       "\n",
       "    .dataframe thead th {\n",
       "        text-align: right;\n",
       "    }\n",
       "</style>\n",
       "<table border=\"1\" class=\"dataframe\">\n",
       "  <thead>\n",
       "    <tr style=\"text-align: right;\">\n",
       "      <th></th>\n",
       "      <th>n</th>\n",
       "      <th>q</th>\n",
       "      <th>P(n,q)</th>\n",
       "    </tr>\n",
       "  </thead>\n",
       "  <tbody>\n",
       "    <tr>\n",
       "      <th>0</th>\n",
       "      <td>1</td>\n",
       "      <td>0.10</td>\n",
       "      <td>2.000000e-01</td>\n",
       "    </tr>\n",
       "    <tr>\n",
       "      <th>1</th>\n",
       "      <td>1</td>\n",
       "      <td>0.15</td>\n",
       "      <td>3.000000e-01</td>\n",
       "    </tr>\n",
       "    <tr>\n",
       "      <th>2</th>\n",
       "      <td>1</td>\n",
       "      <td>0.20</td>\n",
       "      <td>4.000000e-01</td>\n",
       "    </tr>\n",
       "    <tr>\n",
       "      <th>3</th>\n",
       "      <td>1</td>\n",
       "      <td>0.25</td>\n",
       "      <td>5.000000e-01</td>\n",
       "    </tr>\n",
       "    <tr>\n",
       "      <th>4</th>\n",
       "      <td>1</td>\n",
       "      <td>0.30</td>\n",
       "      <td>6.000000e-01</td>\n",
       "    </tr>\n",
       "    <tr>\n",
       "      <th>5</th>\n",
       "      <td>3</td>\n",
       "      <td>0.10</td>\n",
       "      <td>1.712000e-02</td>\n",
       "    </tr>\n",
       "    <tr>\n",
       "      <th>6</th>\n",
       "      <td>3</td>\n",
       "      <td>0.15</td>\n",
       "      <td>5.322375e-02</td>\n",
       "    </tr>\n",
       "    <tr>\n",
       "      <th>7</th>\n",
       "      <td>3</td>\n",
       "      <td>0.20</td>\n",
       "      <td>1.158400e-01</td>\n",
       "    </tr>\n",
       "    <tr>\n",
       "      <th>8</th>\n",
       "      <td>3</td>\n",
       "      <td>0.25</td>\n",
       "      <td>2.070312e-01</td>\n",
       "    </tr>\n",
       "    <tr>\n",
       "      <th>9</th>\n",
       "      <td>3</td>\n",
       "      <td>0.30</td>\n",
       "      <td>3.261600e-01</td>\n",
       "    </tr>\n",
       "    <tr>\n",
       "      <th>10</th>\n",
       "      <td>6</td>\n",
       "      <td>0.10</td>\n",
       "      <td>5.914122e-04</td>\n",
       "    </tr>\n",
       "    <tr>\n",
       "      <th>11</th>\n",
       "      <td>6</td>\n",
       "      <td>0.15</td>\n",
       "      <td>5.313727e-03</td>\n",
       "    </tr>\n",
       "    <tr>\n",
       "      <th>12</th>\n",
       "      <td>6</td>\n",
       "      <td>0.20</td>\n",
       "      <td>2.330841e-02</td>\n",
       "    </tr>\n",
       "    <tr>\n",
       "      <th>13</th>\n",
       "      <td>6</td>\n",
       "      <td>0.25</td>\n",
       "      <td>6.865501e-02</td>\n",
       "    </tr>\n",
       "    <tr>\n",
       "      <th>14</th>\n",
       "      <td>6</td>\n",
       "      <td>0.30</td>\n",
       "      <td>1.564496e-01</td>\n",
       "    </tr>\n",
       "    <tr>\n",
       "      <th>15</th>\n",
       "      <td>12</td>\n",
       "      <td>0.10</td>\n",
       "      <td>9.351537e-07</td>\n",
       "    </tr>\n",
       "    <tr>\n",
       "      <th>16</th>\n",
       "      <td>12</td>\n",
       "      <td>0.15</td>\n",
       "      <td>6.871345e-05</td>\n",
       "    </tr>\n",
       "    <tr>\n",
       "      <th>17</th>\n",
       "      <td>12</td>\n",
       "      <td>0.20</td>\n",
       "      <td>1.194787e-03</td>\n",
       "    </tr>\n",
       "    <tr>\n",
       "      <th>18</th>\n",
       "      <td>12</td>\n",
       "      <td>0.25</td>\n",
       "      <td>9.293697e-03</td>\n",
       "    </tr>\n",
       "    <tr>\n",
       "      <th>19</th>\n",
       "      <td>12</td>\n",
       "      <td>0.30</td>\n",
       "      <td>4.289600e-02</td>\n",
       "    </tr>\n",
       "    <tr>\n",
       "      <th>20</th>\n",
       "      <td>24</td>\n",
       "      <td>0.10</td>\n",
       "      <td>3.179679e-12</td>\n",
       "    </tr>\n",
       "    <tr>\n",
       "      <th>21</th>\n",
       "      <td>24</td>\n",
       "      <td>0.15</td>\n",
       "      <td>1.538207e-08</td>\n",
       "    </tr>\n",
       "    <tr>\n",
       "      <th>22</th>\n",
       "      <td>24</td>\n",
       "      <td>0.20</td>\n",
       "      <td>4.120216e-06</td>\n",
       "    </tr>\n",
       "    <tr>\n",
       "      <th>23</th>\n",
       "      <td>24</td>\n",
       "      <td>0.25</td>\n",
       "      <td>2.180125e-04</td>\n",
       "    </tr>\n",
       "    <tr>\n",
       "      <th>24</th>\n",
       "      <td>24</td>\n",
       "      <td>0.30</td>\n",
       "      <td>4.000671e-03</td>\n",
       "    </tr>\n",
       "    <tr>\n",
       "      <th>25</th>\n",
       "      <td>48</td>\n",
       "      <td>0.10</td>\n",
       "      <td>-1.554312e-15</td>\n",
       "    </tr>\n",
       "    <tr>\n",
       "      <th>26</th>\n",
       "      <td>48</td>\n",
       "      <td>0.15</td>\n",
       "      <td>2.664535e-15</td>\n",
       "    </tr>\n",
       "    <tr>\n",
       "      <th>27</th>\n",
       "      <td>48</td>\n",
       "      <td>0.20</td>\n",
       "      <td>6.615819e-11</td>\n",
       "    </tr>\n",
       "    <tr>\n",
       "      <th>28</th>\n",
       "      <td>48</td>\n",
       "      <td>0.25</td>\n",
       "      <td>1.589361e-07</td>\n",
       "    </tr>\n",
       "    <tr>\n",
       "      <th>29</th>\n",
       "      <td>48</td>\n",
       "      <td>0.30</td>\n",
       "      <td>4.489719e-05</td>\n",
       "    </tr>\n",
       "  </tbody>\n",
       "</table>\n",
       "</div>"
      ],
      "text/plain": [
       "     n     q        P(n,q)\n",
       "0    1  0.10  2.000000e-01\n",
       "1    1  0.15  3.000000e-01\n",
       "2    1  0.20  4.000000e-01\n",
       "3    1  0.25  5.000000e-01\n",
       "4    1  0.30  6.000000e-01\n",
       "5    3  0.10  1.712000e-02\n",
       "6    3  0.15  5.322375e-02\n",
       "7    3  0.20  1.158400e-01\n",
       "8    3  0.25  2.070312e-01\n",
       "9    3  0.30  3.261600e-01\n",
       "10   6  0.10  5.914122e-04\n",
       "11   6  0.15  5.313727e-03\n",
       "12   6  0.20  2.330841e-02\n",
       "13   6  0.25  6.865501e-02\n",
       "14   6  0.30  1.564496e-01\n",
       "15  12  0.10  9.351537e-07\n",
       "16  12  0.15  6.871345e-05\n",
       "17  12  0.20  1.194787e-03\n",
       "18  12  0.25  9.293697e-03\n",
       "19  12  0.30  4.289600e-02\n",
       "20  24  0.10  3.179679e-12\n",
       "21  24  0.15  1.538207e-08\n",
       "22  24  0.20  4.120216e-06\n",
       "23  24  0.25  2.180125e-04\n",
       "24  24  0.30  4.000671e-03\n",
       "25  48  0.10 -1.554312e-15\n",
       "26  48  0.15  2.664535e-15\n",
       "27  48  0.20  6.615819e-11\n",
       "28  48  0.25  1.589361e-07\n",
       "29  48  0.30  4.489719e-05"
      ]
     },
     "execution_count": 9,
     "metadata": {},
     "output_type": "execute_result"
    }
   ],
   "source": [
    "pns_grunspan = create_df_pns(ns, qs, p_grunspan)\n",
    "pns_grunspan"
   ]
  },
  {
   "cell_type": "code",
   "execution_count": 10,
   "id": "869d2c5d-b1cf-4aab-aedc-a9b37c18a56d",
   "metadata": {},
   "outputs": [
    {
     "data": {
      "image/png": "[encoded data removed]",
      "text/plain": [
       "<Figure size 720x360 with 1 Axes>"
      ]
     },
     "metadata": {
      "needs_background": "light"
     },
     "output_type": "display_data"
    },
    {
     "data": {
      "image/png": "[encoded data removed]",
      "text/plain": [
       "<Figure size 720x360 with 1 Axes>"
      ]
     },
     "metadata": {
      "needs_background": "light"
     },
     "output_type": "display_data"
    },
    {
     "data": {
      "image/png": "[encoded data removed]",
      "text/plain": [
       "<Figure size 720x360 with 1 Axes>"
      ]
     },
     "metadata": {
      "needs_background": "light"
     },
     "output_type": "display_data"
    },
    {
     "data": {
      "image/png": "[encoded data removed]",
      "text/plain": [
       "<Figure size 720x360 with 1 Axes>"
      ]
     },
     "metadata": {
      "needs_background": "light"
     },
     "output_type": "display_data"
    },
    {
     "data": {
      "image/png": "[encoded data removed]",
      "text/plain": [
       "<Figure size 720x360 with 1 Axes>"
      ]
     },
     "metadata": {
      "needs_background": "light"
     },
     "output_type": "display_data"
    },
    {
     "data": {
      "image/png": "[encoded data removed]",
      "text/plain": [
       "<Figure size 720x360 with 1 Axes>"
      ]
     },
     "metadata": {
      "needs_background": "light"
     },
     "output_type": "display_data"
    }
   ],
   "source": [
    "for n in ns:\n",
    "    nakamoto_data = pns_nakamoto.loc[pns_nakamoto['n'] == n]\n",
    "    grunspan_data = pns_grunspan.loc[pns_grunspan['n'] == n]\n",
    "    size = 100\n",
    "    \n",
    "    fig, ax = plt.subplots(figsize=(10,5))\n",
    "    ax.scatter(nakamoto_data['q'], nakamoto_data['P(n,q)'], s=size, label='Nakamto')\n",
    "    ax.scatter(grunspan_data['q'], grunspan_data['P(n,q)'], s=size, label='Grunspan')\n",
    "    ax.legend()\n",
    "    ax.set_xlabel('q')\n",
    "    ax.set_ylabel('P(n, q)')\n",
    "    ax.set_title('n = {}'.format(n))"
   ]
  },
  {
   "cell_type": "markdown",
   "id": "ade99dab-b904-41cd-b436-e2242635dacb",
   "metadata": {},
   "source": [
    "Teraz spróbujmy tak dobrać wartość $n$ (w zależności od parametru $q$), aby ustalić dopuszczalne prawdopodobieństwo sukcesu $\\Pr(n, q) = 0.1\\%, 1\\%, 10\\%$. Będziemy sprawdzać dla jakiej wartośći parametru $n$ wartość prawdopodobieństwa $\\Pr(n,q)$ będzie większa bądź równa od zadanych wartości. Znajdziemy wtedy ograniczenie, czyli wspomniane na początku dopuszczalne prawdopodobieństwo sukcsu, a dokładniej - jego dopuszczalną wartość."
   ]
  },
  {
   "cell_type": "code",
   "execution_count": 11,
   "id": "c5640310-2cda-4160-80e6-985ca7846e5c",
   "metadata": {},
   "outputs": [],
   "source": [
    "# Probability bounds\n",
    "pnqs = [0.001, 0.01, 0.1]\n",
    "\n",
    "# q parameter values\n",
    "qs = [0.01 * i for i in range(1, 40)]"
   ]
  },
  {
   "cell_type": "code",
   "execution_count": 12,
   "id": "73408ace-3766-44db-8741-1685914ae540",
   "metadata": {},
   "outputs": [],
   "source": [
    "def best_fit(q, p_func, pnq_limit):\n",
    "    n = 1\n",
    "    while p_func(n, q) >= pnq_limit:\n",
    "        n += 1\n",
    "    return n"
   ]
  },
  {
   "cell_type": "code",
   "execution_count": 13,
   "id": "0f3ff8f3-4f11-454d-99bd-c60e9bf5398d",
   "metadata": {},
   "outputs": [],
   "source": [
    "def create_df_best_n(qs, pnqs, p_func):\n",
    "    return pd.DataFrame([[q, best_fit(q, p_func, pnq), pnq] for q, pnq in itertools.product(qs, pnqs)], columns=['q', 'n', 'P(n,q)'])"
   ]
  },
  {
   "cell_type": "code",
   "execution_count": 14,
   "id": "cd0fd41c-2af6-401a-82b1-ea3a7839cc47",
   "metadata": {},
   "outputs": [
    {
     "data": {
      "text/html": [
       "<div>\n",
       "<style scoped>\n",
       "    .dataframe tbody tr th:only-of-type {\n",
       "        vertical-align: middle;\n",
       "    }\n",
       "\n",
       "    .dataframe tbody tr th {\n",
       "        vertical-align: top;\n",
       "    }\n",
       "\n",
       "    .dataframe thead th {\n",
       "        text-align: right;\n",
       "    }\n",
       "</style>\n",
       "<table border=\"1\" class=\"dataframe\">\n",
       "  <thead>\n",
       "    <tr style=\"text-align: right;\">\n",
       "      <th></th>\n",
       "      <th>q</th>\n",
       "      <th>n</th>\n",
       "      <th>P(n,q)</th>\n",
       "    </tr>\n",
       "  </thead>\n",
       "  <tbody>\n",
       "    <tr>\n",
       "      <th>0</th>\n",
       "      <td>0.01</td>\n",
       "      <td>2</td>\n",
       "      <td>0.001</td>\n",
       "    </tr>\n",
       "    <tr>\n",
       "      <th>1</th>\n",
       "      <td>0.01</td>\n",
       "      <td>2</td>\n",
       "      <td>0.010</td>\n",
       "    </tr>\n",
       "    <tr>\n",
       "      <th>2</th>\n",
       "      <td>0.01</td>\n",
       "      <td>1</td>\n",
       "      <td>0.100</td>\n",
       "    </tr>\n",
       "    <tr>\n",
       "      <th>3</th>\n",
       "      <td>0.02</td>\n",
       "      <td>3</td>\n",
       "      <td>0.001</td>\n",
       "    </tr>\n",
       "    <tr>\n",
       "      <th>4</th>\n",
       "      <td>0.02</td>\n",
       "      <td>2</td>\n",
       "      <td>0.010</td>\n",
       "    </tr>\n",
       "    <tr>\n",
       "      <th>...</th>\n",
       "      <td>...</td>\n",
       "      <td>...</td>\n",
       "      <td>...</td>\n",
       "    </tr>\n",
       "    <tr>\n",
       "      <th>112</th>\n",
       "      <td>0.38</td>\n",
       "      <td>41</td>\n",
       "      <td>0.010</td>\n",
       "    </tr>\n",
       "    <tr>\n",
       "      <th>113</th>\n",
       "      <td>0.38</td>\n",
       "      <td>19</td>\n",
       "      <td>0.100</td>\n",
       "    </tr>\n",
       "    <tr>\n",
       "      <th>114</th>\n",
       "      <td>0.39</td>\n",
       "      <td>74</td>\n",
       "      <td>0.001</td>\n",
       "    </tr>\n",
       "    <tr>\n",
       "      <th>115</th>\n",
       "      <td>0.39</td>\n",
       "      <td>48</td>\n",
       "      <td>0.010</td>\n",
       "    </tr>\n",
       "    <tr>\n",
       "      <th>116</th>\n",
       "      <td>0.39</td>\n",
       "      <td>23</td>\n",
       "      <td>0.100</td>\n",
       "    </tr>\n",
       "  </tbody>\n",
       "</table>\n",
       "<p>117 rows × 3 columns</p>\n",
       "</div>"
      ],
      "text/plain": [
       "        q   n  P(n,q)\n",
       "0    0.01   2   0.001\n",
       "1    0.01   2   0.010\n",
       "2    0.01   1   0.100\n",
       "3    0.02   3   0.001\n",
       "4    0.02   2   0.010\n",
       "..    ...  ..     ...\n",
       "112  0.38  41   0.010\n",
       "113  0.38  19   0.100\n",
       "114  0.39  74   0.001\n",
       "115  0.39  48   0.010\n",
       "116  0.39  23   0.100\n",
       "\n",
       "[117 rows x 3 columns]"
      ]
     },
     "execution_count": 14,
     "metadata": {},
     "output_type": "execute_result"
    }
   ],
   "source": [
    "best_n_nakamoto = create_df_best_n(qs, pnqs, p_nakamoto)\n",
    "best_n_nakamoto"
   ]
  },
  {
   "cell_type": "code",
   "execution_count": 15,
   "id": "31e2280b-6b45-4baa-8886-dffe362892bb",
   "metadata": {},
   "outputs": [
    {
     "data": {
      "text/html": [
       "<div>\n",
       "<style scoped>\n",
       "    .dataframe tbody tr th:only-of-type {\n",
       "        vertical-align: middle;\n",
       "    }\n",
       "\n",
       "    .dataframe tbody tr th {\n",
       "        vertical-align: top;\n",
       "    }\n",
       "\n",
       "    .dataframe thead th {\n",
       "        text-align: right;\n",
       "    }\n",
       "</style>\n",
       "<table border=\"1\" class=\"dataframe\">\n",
       "  <thead>\n",
       "    <tr style=\"text-align: right;\">\n",
       "      <th></th>\n",
       "      <th>q</th>\n",
       "      <th>n</th>\n",
       "      <th>P(n,q)</th>\n",
       "    </tr>\n",
       "  </thead>\n",
       "  <tbody>\n",
       "    <tr>\n",
       "      <th>0</th>\n",
       "      <td>0.01</td>\n",
       "      <td>2</td>\n",
       "      <td>0.001</td>\n",
       "    </tr>\n",
       "    <tr>\n",
       "      <th>1</th>\n",
       "      <td>0.01</td>\n",
       "      <td>2</td>\n",
       "      <td>0.010</td>\n",
       "    </tr>\n",
       "    <tr>\n",
       "      <th>2</th>\n",
       "      <td>0.01</td>\n",
       "      <td>1</td>\n",
       "      <td>0.100</td>\n",
       "    </tr>\n",
       "    <tr>\n",
       "      <th>3</th>\n",
       "      <td>0.02</td>\n",
       "      <td>3</td>\n",
       "      <td>0.001</td>\n",
       "    </tr>\n",
       "    <tr>\n",
       "      <th>4</th>\n",
       "      <td>0.02</td>\n",
       "      <td>2</td>\n",
       "      <td>0.010</td>\n",
       "    </tr>\n",
       "    <tr>\n",
       "      <th>...</th>\n",
       "      <td>...</td>\n",
       "      <td>...</td>\n",
       "      <td>...</td>\n",
       "    </tr>\n",
       "    <tr>\n",
       "      <th>112</th>\n",
       "      <td>0.38</td>\n",
       "      <td>57</td>\n",
       "      <td>0.010</td>\n",
       "    </tr>\n",
       "    <tr>\n",
       "      <th>113</th>\n",
       "      <td>0.38</td>\n",
       "      <td>24</td>\n",
       "      <td>0.100</td>\n",
       "    </tr>\n",
       "    <tr>\n",
       "      <th>114</th>\n",
       "      <td>0.39</td>\n",
       "      <td>110</td>\n",
       "      <td>0.001</td>\n",
       "    </tr>\n",
       "    <tr>\n",
       "      <th>115</th>\n",
       "      <td>0.39</td>\n",
       "      <td>68</td>\n",
       "      <td>0.010</td>\n",
       "    </tr>\n",
       "    <tr>\n",
       "      <th>116</th>\n",
       "      <td>0.39</td>\n",
       "      <td>28</td>\n",
       "      <td>0.100</td>\n",
       "    </tr>\n",
       "  </tbody>\n",
       "</table>\n",
       "<p>117 rows × 3 columns</p>\n",
       "</div>"
      ],
      "text/plain": [
       "        q    n  P(n,q)\n",
       "0    0.01    2   0.001\n",
       "1    0.01    2   0.010\n",
       "2    0.01    1   0.100\n",
       "3    0.02    3   0.001\n",
       "4    0.02    2   0.010\n",
       "..    ...  ...     ...\n",
       "112  0.38   57   0.010\n",
       "113  0.38   24   0.100\n",
       "114  0.39  110   0.001\n",
       "115  0.39   68   0.010\n",
       "116  0.39   28   0.100\n",
       "\n",
       "[117 rows x 3 columns]"
      ]
     },
     "execution_count": 15,
     "metadata": {},
     "output_type": "execute_result"
    }
   ],
   "source": [
    "best_n_grunspan = create_df_best_n(qs, pnqs, p_grunspan)\n",
    "best_n_grunspan"
   ]
  },
  {
   "cell_type": "code",
   "execution_count": 16,
   "id": "3ba3d5c5-4dc3-4de6-b439-2a09f3109773",
   "metadata": {},
   "outputs": [
    {
     "data": {
      "image/png": "[encoded data removed]",
      "text/plain": [
       "<Figure size 720x432 with 1 Axes>"
      ]
     },
     "metadata": {
      "needs_background": "light"
     },
     "output_type": "display_data"
    },
    {
     "data": {
      "image/png": "[encoded data removed]",
      "text/plain": [
       "<Figure size 720x432 with 1 Axes>"
      ]
     },
     "metadata": {
      "needs_background": "light"
     },
     "output_type": "display_data"
    },
    {
     "data": {
      "image/png": "[encoded data removed]",
      "text/plain": [
       "<Figure size 720x432 with 1 Axes>"
      ]
     },
     "metadata": {
      "needs_background": "light"
     },
     "output_type": "display_data"
    }
   ],
   "source": [
    "for pnq in pnqs:\n",
    "    nakamoto_data = best_n_nakamoto.loc[best_n_nakamoto['P(n,q)'] == pnq]\n",
    "    grunspan_data = best_n_grunspan.loc[best_n_grunspan['P(n,q)'] == pnq]\n",
    "    size=10\n",
    "    \n",
    "    fig, ax = plt.subplots(figsize=(10,6))\n",
    "    ax.scatter(nakamoto_data['q'], nakamoto_data['n'], s=size, label='Nakamto')\n",
    "    ax.scatter(grunspan_data['q'], grunspan_data['n'], s=size, label='Grunspan')\n",
    "    ax.legend()\n",
    "    ax.set_xlabel('q')\n",
    "    ax.set_ylabel('n')\n",
    "    ax.set_title('P(n,q) = {}%'.format(pnq * 100))"
   ]
  },
  {
   "cell_type": "markdown",
   "id": "aa17947d-40f9-4080-90d6-664885520dbb",
   "metadata": {},
   "source": [
    "## Double spending attack\n",
    "\n",
    "Kolejnym krokiem jest przeprowadzenie symulacji **ataku podwójnego wydatkowania** (ang. _double spending attack_). Zakładając, że wiemy w jaki sposób działa technologia `blockchain`, wtedy taki atak przedstawia się następująco:\n",
    "1. Adwersarz wysyła do systemu deklarację wykonania transakcji $t$ (przekazanie monet sprzedającemu). Blok $B$ zawierający transakcję $t$ zostaje dołączony do nabliżeszj gałęzi.\n",
    "2. Adwersarz równolegle (niejawnie) buduje alternatywną gałąź, która bazuje na ostatnim bloku przed dołączeniem bloku $B$. W swojej gałęzy umieszcza transakcję $t'$, w której przekazuje monety użytkownikowi innemu niż sprzedający.\n",
    "3. Adwersarz czeka do momentu, aż transakcja $t$ otrzyma w _uczciwej_ gałęzi odpowiednią liczbę potwierdzeń (nadbudowanych bloków nad dodanym blokiem $B$), a sprzedający np. wyśle przedmiot transakcji, np. jakiś produkt.\n",
    "4. Adwersarz kontynuuje rozbudowę swojej gałęzi do momentu, aż będzie ona dłuższa od gałęzi _uczciwej_. W momencie, gdy osiągnie żądaną długość, publikuje swoją gałąź. Ponieważ jest ona wtedy najdłuższa to pozostali (uczciwi) użytkownicy systemu uznają ją za gałąź obowiązującą. Transakcja $t$ (_uczciwa_) zostaje w powszechnym mnienamniu zastąpiona za pomocą _nieuczciwej_ transakcji $t'$.\n",
    "\n",
    "Do dokonania takiego ataku jest potrzebna, oczywiście, odpowiednia moc obliczeniowa. Moc adwersarza musi być zatem większa od mocy, którą dysponują uczciwi użytkownicy po to, aby w takim samym czasie był w stanie nadbudować taką samą liczbę bloków jak pozostali użytkownicy sieci. Aby utrudnić wykonanie takiego ataku, zastosowano pewne techniki. Do potwierdzenia transakcji każdy użytkownik musi np. wygenerować pewną, określoną liczbę haszy. Jest to koncpecja dowodu zwanego **dowodem wykonania pracy** (ang. _proof-of-work_)."
   ]
  },
  {
   "cell_type": "markdown",
   "id": "36f9ba0f-f498-4b7c-ac89-e9f45ec4f579",
   "metadata": {},
   "source": [
    "### Implementacja\n",
    "\n",
    "Zakładamy, że przeprowadzamy atak tak, jak to opisano w poprzedniej części. Skupmy się teraz na tym, w jaki sposób generowany jest pojedynczy blok:\n",
    "1. Wylosuj wartość $\\mathrm{nonce} \\in [0, 2^{32} - 1]$.\n",
    "2. Skonkatenuj $\\mathrm{nonce}$ z haszem poprzedniego bloku $h_{\\mathrm{prev}}$ i listą transakcji do umieszczenia w nowym (aktualnym) bloku: $h = H(\\mathrm{nonce} || h_{\\mathrm{prev}} || t_1 || t_2 || \\ldots)$.\n",
    "3. Sprawdź czy hasz $h$ traktowany jako liczba rzeczywista z przedziału $[0, 1)$ jest mniejszy od pewnego ustalonego parametru $\\delta$ (ma odpowiednio dużą liczbę zer znaczących). Jeżeli tak - udało się wygenerować nowy blok. W przeciwnym przypadku należy powtórzyć całą procedurę. \n",
    "\n",
    "Łatwo zauważyć, że wartość $\\delta$ definiuje to, jak trudne jest wygenerowanie bloku. Im _węższy_ przedział $[0, \\delta)$, tym trudniejsze jest wygenerowanie bloku, ponieważ zakres dopuszczalnych wartości jest mniejszy. W przypadku technologii `Blockchain` istotnym jest, aby parametr $\\delta$ miał przełożenie na moc obliczeniową, czyli na czas potrzebny do tego, aby wygenerować nowy blok. Przyjmijmy, że ten czas jest opisywany przez parameter $\\lambda$. W sieci `Blockchain` wynosi on około **10 minut**.\n",
    "\n",
    "Możemy zauważyć, że ten proces możemy opisać za pomocą błądzenia po prostej. Jeżeli uda się wygenerować hasz $h < \\delta$ to wówczas przesuwamy się o jedną jednostkę w prawo, czyli w tym przypadku - dobudowujemy nowy blok do gałęzi. "
   ]
  },
  {
   "cell_type": "code",
   "execution_count": 24,
   "id": "1a0e15b4-5a49-478d-a0de-24a8777c2498",
   "metadata": {},
   "outputs": [],
   "source": [
    "def simulate_attack(n, q):\n",
    "    treshold = 30\n",
    "    legitimate_branch = 0\n",
    "    adversary_branch = 0\n",
    "    \n",
    "    while True:\n",
    "        if random.random() <= q:\n",
    "            adversary_branch += 1\n",
    "        else:\n",
    "            legitimate_branch += 1\n",
    "            \n",
    "        if legitimate_branch < n:\n",
    "            continue\n",
    "    \n",
    "        if adversary_branch >= legitimate_branch:\n",
    "            return True\n",
    "        elif legitimate_branch >= n + treshold:\n",
    "            return False"
   ]
  },
  {
   "cell_type": "markdown",
   "id": "2a67fddc-22f7-4a4b-9b50-e1e54b5785e9",
   "metadata": {},
   "source": [
    "Powyższy kod opiera się na dwóch parametrach: $q$, który opisuje moc obliczeniową należącą do adwersarza, oraz $n$, który wyraża wymaganą długość gałęzi (liczbę dobudowanych bloków). Wcześniej stwierdziliśmy, że parametr $\\delta$ ma wpływ na czas generowania nowego bloku $\\lambda$, a ten z kolei zależy jest od mocy obliczeniowej adwersarza $q$. Możemy przyjąć, że $\\lambda \\sim q$. Na początku zdefiniowaliśmy również, że $q \\in [0, \\frac{1}{2})$ dostępnej mocy obliczeniowej wszystkich użytkowników. Przyjmując, że $p$ wyraża moc obliczeniową uczciwych użytkowników, to wówczas widzmy, że $q < p$ - adwersarz dysponuje mniej niż połową dostępnej mocy obliczeniowej. Oczywiście $p + q = 1$."
   ]
  },
  {
   "cell_type": "markdown",
   "id": "16b3e9d7-b962-4fe8-af8d-f36ffd191290",
   "metadata": {},
   "source": [
    "Przeprowadźmy teraz symulację wykorzystując metodę **Monte Carlo**, która polega na wielokrotnym powtarzaniu danego eksperymentu."
   ]
  },
  {
   "cell_type": "code",
   "execution_count": 25,
   "id": "67ff6e78-6e44-4854-b436-cb20ccb916b9",
   "metadata": {},
   "outputs": [],
   "source": [
    "# Number of trials\n",
    "trials = 10000\n",
    "\n",
    "# Values of adversary's computing power\n",
    "qs = [0.01 * i for i in range(50)]\n",
    "\n",
    "# Possible lengths of branch to confirm transaction\n",
    "ns = [1, 3, 6, 12, 24, 48]"
   ]
  },
  {
   "cell_type": "code",
   "execution_count": 26,
   "id": "df7713aa-8bcb-4a46-88a6-c707ecbc4672",
   "metadata": {},
   "outputs": [],
   "source": [
    "def p_dsa(n, q, trials=trials):\n",
    "    successful_attacks = 0\n",
    "\n",
    "    for _ in range(trials):\n",
    "        if simulate_attack(n, q):\n",
    "            successful_attacks += 1\n",
    "\n",
    "    return successful_attacks/trials"
   ]
  },
  {
   "cell_type": "code",
   "execution_count": 27,
   "id": "caf92cf9-6238-4cf0-b9fd-ce02ab327196",
   "metadata": {},
   "outputs": [],
   "source": [
    "pns_nakamoto = create_df_pns(ns, qs, p_nakamoto)\n",
    "pns_grunspan = create_df_pns(ns, qs, p_grunspan)\n",
    "pns_dsa = create_df_pns(ns, qs, p_dsa)"
   ]
  },
  {
   "cell_type": "code",
   "execution_count": 28,
   "id": "e5da6087-ad57-40a2-ab73-853aeeb35d60",
   "metadata": {},
   "outputs": [
    {
     "data": {
      "text/html": [
       "<div>\n",
       "<style scoped>\n",
       "    .dataframe tbody tr th:only-of-type {\n",
       "        vertical-align: middle;\n",
       "    }\n",
       "\n",
       "    .dataframe tbody tr th {\n",
       "        vertical-align: top;\n",
       "    }\n",
       "\n",
       "    .dataframe thead th {\n",
       "        text-align: right;\n",
       "    }\n",
       "</style>\n",
       "<table border=\"1\" class=\"dataframe\">\n",
       "  <thead>\n",
       "    <tr style=\"text-align: right;\">\n",
       "      <th></th>\n",
       "      <th>n</th>\n",
       "      <th>q</th>\n",
       "      <th>P(n,q)</th>\n",
       "    </tr>\n",
       "  </thead>\n",
       "  <tbody>\n",
       "    <tr>\n",
       "      <th>0</th>\n",
       "      <td>1</td>\n",
       "      <td>0.00</td>\n",
       "      <td>0.0000</td>\n",
       "    </tr>\n",
       "    <tr>\n",
       "      <th>1</th>\n",
       "      <td>1</td>\n",
       "      <td>0.01</td>\n",
       "      <td>0.0192</td>\n",
       "    </tr>\n",
       "    <tr>\n",
       "      <th>2</th>\n",
       "      <td>1</td>\n",
       "      <td>0.02</td>\n",
       "      <td>0.0408</td>\n",
       "    </tr>\n",
       "    <tr>\n",
       "      <th>3</th>\n",
       "      <td>1</td>\n",
       "      <td>0.03</td>\n",
       "      <td>0.0606</td>\n",
       "    </tr>\n",
       "    <tr>\n",
       "      <th>4</th>\n",
       "      <td>1</td>\n",
       "      <td>0.04</td>\n",
       "      <td>0.0771</td>\n",
       "    </tr>\n",
       "    <tr>\n",
       "      <th>...</th>\n",
       "      <td>...</td>\n",
       "      <td>...</td>\n",
       "      <td>...</td>\n",
       "    </tr>\n",
       "    <tr>\n",
       "      <th>295</th>\n",
       "      <td>48</td>\n",
       "      <td>0.45</td>\n",
       "      <td>0.2803</td>\n",
       "    </tr>\n",
       "    <tr>\n",
       "      <th>296</th>\n",
       "      <td>48</td>\n",
       "      <td>0.46</td>\n",
       "      <td>0.3667</td>\n",
       "    </tr>\n",
       "    <tr>\n",
       "      <th>297</th>\n",
       "      <td>48</td>\n",
       "      <td>0.47</td>\n",
       "      <td>0.4519</td>\n",
       "    </tr>\n",
       "    <tr>\n",
       "      <th>298</th>\n",
       "      <td>48</td>\n",
       "      <td>0.48</td>\n",
       "      <td>0.5447</td>\n",
       "    </tr>\n",
       "    <tr>\n",
       "      <th>299</th>\n",
       "      <td>48</td>\n",
       "      <td>0.49</td>\n",
       "      <td>0.6300</td>\n",
       "    </tr>\n",
       "  </tbody>\n",
       "</table>\n",
       "<p>300 rows × 3 columns</p>\n",
       "</div>"
      ],
      "text/plain": [
       "      n     q  P(n,q)\n",
       "0     1  0.00  0.0000\n",
       "1     1  0.01  0.0192\n",
       "2     1  0.02  0.0408\n",
       "3     1  0.03  0.0606\n",
       "4     1  0.04  0.0771\n",
       "..   ..   ...     ...\n",
       "295  48  0.45  0.2803\n",
       "296  48  0.46  0.3667\n",
       "297  48  0.47  0.4519\n",
       "298  48  0.48  0.5447\n",
       "299  48  0.49  0.6300\n",
       "\n",
       "[300 rows x 3 columns]"
      ]
     },
     "execution_count": 28,
     "metadata": {},
     "output_type": "execute_result"
    }
   ],
   "source": [
    "pns_dsa"
   ]
  },
  {
   "cell_type": "code",
   "execution_count": 29,
   "id": "a47009d5-fb8d-4673-90aa-e2acd4d544c9",
   "metadata": {},
   "outputs": [
    {
     "data": {
      "image/png": "[encoded data removed]",
      "text/plain": [
       "<Figure size 720x504 with 1 Axes>"
      ]
     },
     "metadata": {
      "needs_background": "light"
     },
     "output_type": "display_data"
    },
    {
     "data": {
      "image/png": "[encoded data removed]",
      "text/plain": [
       "<Figure size 720x504 with 1 Axes>"
      ]
     },
     "metadata": {
      "needs_background": "light"
     },
     "output_type": "display_data"
    },
    {
     "data": {
      "image/png": "[encoded data removed]",
      "text/plain": [
       "<Figure size 720x504 with 1 Axes>"
      ]
     },
     "metadata": {
      "needs_background": "light"
     },
     "output_type": "display_data"
    },
    {
     "data": {
      "image/png": "[encoded data removed]",
      "text/plain": [
       "<Figure size 720x504 with 1 Axes>"
      ]
     },
     "metadata": {
      "needs_background": "light"
     },
     "output_type": "display_data"
    },
    {
     "data": {
      "image/png": "[encoded data removed]",
      "text/plain": [
       "<Figure size 720x504 with 1 Axes>"
      ]
     },
     "metadata": {
      "needs_background": "light"
     },
     "output_type": "display_data"
    },
    {
     "data": {
      "image/png": "[encoded data removed]",
      "text/plain": [
       "<Figure size 720x504 with 1 Axes>"
      ]
     },
     "metadata": {
      "needs_background": "light"
     },
     "output_type": "display_data"
    }
   ],
   "source": [
    "for n in ns:\n",
    "    nakamoto_data = pns_nakamoto.loc[pns_nakamoto['n'] == n]\n",
    "    grunspan_data = pns_grunspan.loc[pns_grunspan['n'] == n]\n",
    "    dsa_data = pns_dsa.loc[pns_dsa['n'] == n]\n",
    "    size = 10\n",
    "    \n",
    "    fig, ax = plt.subplots(figsize=(10,7))\n",
    "    ax.scatter(nakamoto_data['q'], nakamoto_data['P(n,q)'], s=size, label='Nakamto')\n",
    "    ax.scatter(grunspan_data['q'], grunspan_data['P(n,q)'], s=size, label='Grunspan')\n",
    "    ax.scatter(dsa_data['q'], dsa_data['P(n,q)'], s=size, label='Double spending attack')\n",
    "    ax.legend()\n",
    "    ax.set_xlabel('q')\n",
    "    ax.set_ylabel('P(n, q)')\n",
    "    ax.set_title('n = {}'.format(n))"
   ]
  },
  {
   "cell_type": "markdown",
   "id": "5106c800-1520-48e9-b5b6-bd8cac5034b3",
   "metadata": {},
   "source": [
    "### Wnioski\n",
    "\n",
    "Zauważamy pewną rozbieżność pomiędzy wynikami zwracanymi przez metody przedstawione przez Nakamato i Grunspana a symulacją ataku. Wynika to z tego, że eksperyment był oparty o metodę _Monte Carlo_. Użycie generator liczb pseudolodowych uniemożliwia nam otrzymanie dokładnych wyników tak jak w przypadku metod analitycznych. Intuicyjnie mogłoby się wydawać, że może to zależeć od rodzaju generatora użytego w eksperymencie (tutaj został uzyty generator ze standardowej biblioteki języka `Python`). Jednak dowiedziono, że nie w przypadku metody _Monte Carlo_ otrzymywane wyniki nie zależą od rodzaju generatora. Podobne rezultaty otrzymalibyśmy dla generatora, który generuje liczby zbliżone do _prawdziwie losowych_."
   ]
  },
  {
   "cell_type": "code",
   "execution_count": null,
   "id": "7563f22f-8d75-438a-9bc4-37f3a1f47033",
   "metadata": {},
   "outputs": [],
   "source": []
  }
 ],
 "metadata": {
  "kernelspec": {
   "display_name": "Python 3",
   "language": "python",
   "name": "python3"
  },
  "language_info": {
   "codemirror_mode": {
    "name": "ipython",
    "version": 3
   },
   "file_extension": ".py",
   "mimetype": "text/x-python",
   "name": "python",
   "nbconvert_exporter": "python",
   "pygments_lexer": "ipython3",
   "version": "3.9.4"
  }
 },
 "nbformat": 4,
 "nbformat_minor": 5
}
